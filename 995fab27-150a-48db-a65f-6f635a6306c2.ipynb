{
 "cells": [
  {
   "cell_type": "markdown",
   "id": "db588089",
   "metadata": {},
   "source": [
    "# PROYECTO FINAL"
   ]
  },
  {
   "cell_type": "markdown",
   "id": "4109c1ae",
   "metadata": {},
   "source": [
    "Hola **Laura**!\n",
    "\n",
    "Soy **Patricio Requena** 👋. Es un placer ser el revisor de tu proyecto el día de hoy!\n",
    "\n",
    "Revisaré tu proyecto detenidamente con el objetivo de ayudarte a mejorar y perfeccionar tus habilidades. Durante mi revisión, identificaré áreas donde puedas hacer mejoras en tu código, señalando específicamente qué y cómo podrías ajustar para optimizar el rendimiento y la claridad de tu proyecto. Además, es importante para mí destacar los aspectos que has manejado excepcionalmente bien. Reconocer tus fortalezas te ayudará a entender qué técnicas y métodos están funcionando a tu favor y cómo puedes aplicarlos en futuras tareas. \n",
    "\n",
    "_**Recuerda que al final de este notebook encontrarás un comentario general de mi parte**_, empecemos!\n",
    "\n",
    "Encontrarás mis comentarios dentro de cajas verdes, amarillas o rojas, ⚠️ **por favor, no muevas, modifiques o borres mis comentarios** ⚠️:\n",
    "\n",
    "\n",
    "<div class=\"alert alert-block alert-success\">\n",
    "<b>Comentario del revisor</b> <a class=“tocSkip”></a>\n",
    "Si todo está perfecto.\n",
    "</div>\n",
    "\n",
    "<div class=\"alert alert-block alert-warning\">\n",
    "<b>Comentario del revisor</b> <a class=“tocSkip”></a>\n",
    "Si tu código está bien pero se puede mejorar o hay algún detalle que le hace falta.\n",
    "</div>\n",
    "\n",
    "<div class=\"alert alert-block alert-danger\">\n",
    "<b>Comentario del revisor</b> <a class=“tocSkip”></a>\n",
    "Si de pronto hace falta algo o existe algún problema con tu código o conclusiones.\n",
    "</div>\n",
    "\n",
    "Puedes responderme de esta forma:\n",
    "<div class=\"alert alert-block alert-info\">\n",
    "<b>Respuesta del estudiante</b> <a class=“tocSkip”></a>\n",
    "</div>"
   ]
  },
  {
   "cell_type": "markdown",
   "id": "b46f34b5",
   "metadata": {},
   "source": [
    "## Introducción\n",
    "\n",
    "Al operador de telecomunicaciones Interconnect le gustaría poder pronosticar su tasa de cancelación de clientes. Si se descubre que un usuario o usuaria planea irse, se le ofrecerán códigos promocionales y opciones de planes especiales. El equipo de marketing de Interconnect ha recopilado algunos de los datos personales de sus clientes, incluyendo información sobre sus planes y contratos.\n",
    "\n",
    "### Servicios de Interconnect\n",
    "\n",
    "Interconnect proporciona principalmente dos tipos de servicios:\n",
    "\n",
    "1. Comunicación por teléfono fijo. El teléfono se puede conectar a varias líneas de manera simultánea.\n",
    "2. Internet. La red se puede configurar a través de una línea telefónica (DSL, *línea de abonado digital*) o a través de un cable de fibra óptica.\n",
    "\n",
    "Algunos otros servicios que ofrece la empresa incluyen:\n",
    "\n",
    "- Seguridad en Internet: software antivirus (*ProtecciónDeDispositivo*) y un bloqueador de sitios web maliciosos (*SeguridadEnLínea*).\n",
    "- Una línea de soporte técnico (*SoporteTécnico*).\n",
    "- Almacenamiento de archivos en la nube y backup de datos (*BackupOnline*).\n",
    "- Streaming de TV (*StreamingTV*) y directorio de películas (*StreamingPelículas*)\n",
    "\n",
    "La clientela puede elegir entre un pago mensual o firmar un contrato de 1 o 2 años. Puede utilizar varios métodos de pago y recibir una factura electrónica después de una transacción.\n",
    "\n",
    "En cada archivo, la columna customerID (ID de cliente) contiene un código único asignado a cada cliente. La información del contrato es válida a partir del 1 de febrero de 2020."
   ]
  },
  {
   "cell_type": "markdown",
   "id": "dd3bf1b4",
   "metadata": {},
   "source": [
    "##  Análisis Exploratorio de Datos"
   ]
  },
  {
   "cell_type": "markdown",
   "id": "a3da9988",
   "metadata": {},
   "source": [
    "###  Carga de datos "
   ]
  },
  {
   "cell_type": "code",
   "execution_count": 1,
   "id": "848de7e2",
   "metadata": {},
   "outputs": [],
   "source": [
    "#Descargar librerías\n",
    "import pandas as pd\n",
    "from datetime import datetime\n",
    "import matplotlib.pyplot as plt"
   ]
  },
  {
   "cell_type": "code",
   "execution_count": 2,
   "id": "b910cdc2",
   "metadata": {},
   "outputs": [
    {
     "name": "stdout",
     "output_type": "stream",
     "text": [
      "contract\n"
     ]
    },
    {
     "data": {
      "text/html": [
       "<div>\n",
       "<style scoped>\n",
       "    .dataframe tbody tr th:only-of-type {\n",
       "        vertical-align: middle;\n",
       "    }\n",
       "\n",
       "    .dataframe tbody tr th {\n",
       "        vertical-align: top;\n",
       "    }\n",
       "\n",
       "    .dataframe thead th {\n",
       "        text-align: right;\n",
       "    }\n",
       "</style>\n",
       "<table border=\"1\" class=\"dataframe\">\n",
       "  <thead>\n",
       "    <tr style=\"text-align: right;\">\n",
       "      <th></th>\n",
       "      <th>customerID</th>\n",
       "      <th>BeginDate</th>\n",
       "      <th>EndDate</th>\n",
       "      <th>Type</th>\n",
       "      <th>PaperlessBilling</th>\n",
       "      <th>PaymentMethod</th>\n",
       "      <th>MonthlyCharges</th>\n",
       "      <th>TotalCharges</th>\n",
       "    </tr>\n",
       "  </thead>\n",
       "  <tbody>\n",
       "    <tr>\n",
       "      <th>0</th>\n",
       "      <td>7590-VHVEG</td>\n",
       "      <td>2020-01-01</td>\n",
       "      <td>No</td>\n",
       "      <td>Month-to-month</td>\n",
       "      <td>Yes</td>\n",
       "      <td>Electronic check</td>\n",
       "      <td>29.85</td>\n",
       "      <td>29.85</td>\n",
       "    </tr>\n",
       "    <tr>\n",
       "      <th>1</th>\n",
       "      <td>5575-GNVDE</td>\n",
       "      <td>2017-04-01</td>\n",
       "      <td>No</td>\n",
       "      <td>One year</td>\n",
       "      <td>No</td>\n",
       "      <td>Mailed check</td>\n",
       "      <td>56.95</td>\n",
       "      <td>1889.5</td>\n",
       "    </tr>\n",
       "    <tr>\n",
       "      <th>2</th>\n",
       "      <td>3668-QPYBK</td>\n",
       "      <td>2019-10-01</td>\n",
       "      <td>2019-12-01 00:00:00</td>\n",
       "      <td>Month-to-month</td>\n",
       "      <td>Yes</td>\n",
       "      <td>Mailed check</td>\n",
       "      <td>53.85</td>\n",
       "      <td>108.15</td>\n",
       "    </tr>\n",
       "    <tr>\n",
       "      <th>3</th>\n",
       "      <td>7795-CFOCW</td>\n",
       "      <td>2016-05-01</td>\n",
       "      <td>No</td>\n",
       "      <td>One year</td>\n",
       "      <td>No</td>\n",
       "      <td>Bank transfer (automatic)</td>\n",
       "      <td>42.30</td>\n",
       "      <td>1840.75</td>\n",
       "    </tr>\n",
       "    <tr>\n",
       "      <th>4</th>\n",
       "      <td>9237-HQITU</td>\n",
       "      <td>2019-09-01</td>\n",
       "      <td>2019-11-01 00:00:00</td>\n",
       "      <td>Month-to-month</td>\n",
       "      <td>Yes</td>\n",
       "      <td>Electronic check</td>\n",
       "      <td>70.70</td>\n",
       "      <td>151.65</td>\n",
       "    </tr>\n",
       "    <tr>\n",
       "      <th>...</th>\n",
       "      <td>...</td>\n",
       "      <td>...</td>\n",
       "      <td>...</td>\n",
       "      <td>...</td>\n",
       "      <td>...</td>\n",
       "      <td>...</td>\n",
       "      <td>...</td>\n",
       "      <td>...</td>\n",
       "    </tr>\n",
       "    <tr>\n",
       "      <th>7038</th>\n",
       "      <td>6840-RESVB</td>\n",
       "      <td>2018-02-01</td>\n",
       "      <td>No</td>\n",
       "      <td>One year</td>\n",
       "      <td>Yes</td>\n",
       "      <td>Mailed check</td>\n",
       "      <td>84.80</td>\n",
       "      <td>1990.5</td>\n",
       "    </tr>\n",
       "    <tr>\n",
       "      <th>7039</th>\n",
       "      <td>2234-XADUH</td>\n",
       "      <td>2014-02-01</td>\n",
       "      <td>No</td>\n",
       "      <td>One year</td>\n",
       "      <td>Yes</td>\n",
       "      <td>Credit card (automatic)</td>\n",
       "      <td>103.20</td>\n",
       "      <td>7362.9</td>\n",
       "    </tr>\n",
       "    <tr>\n",
       "      <th>7040</th>\n",
       "      <td>4801-JZAZL</td>\n",
       "      <td>2019-03-01</td>\n",
       "      <td>No</td>\n",
       "      <td>Month-to-month</td>\n",
       "      <td>Yes</td>\n",
       "      <td>Electronic check</td>\n",
       "      <td>29.60</td>\n",
       "      <td>346.45</td>\n",
       "    </tr>\n",
       "    <tr>\n",
       "      <th>7041</th>\n",
       "      <td>8361-LTMKD</td>\n",
       "      <td>2019-07-01</td>\n",
       "      <td>2019-11-01 00:00:00</td>\n",
       "      <td>Month-to-month</td>\n",
       "      <td>Yes</td>\n",
       "      <td>Mailed check</td>\n",
       "      <td>74.40</td>\n",
       "      <td>306.6</td>\n",
       "    </tr>\n",
       "    <tr>\n",
       "      <th>7042</th>\n",
       "      <td>3186-AJIEK</td>\n",
       "      <td>2014-08-01</td>\n",
       "      <td>No</td>\n",
       "      <td>Two year</td>\n",
       "      <td>Yes</td>\n",
       "      <td>Bank transfer (automatic)</td>\n",
       "      <td>105.65</td>\n",
       "      <td>6844.5</td>\n",
       "    </tr>\n",
       "  </tbody>\n",
       "</table>\n",
       "<p>7043 rows × 8 columns</p>\n",
       "</div>"
      ],
      "text/plain": [
       "      customerID   BeginDate              EndDate            Type  \\\n",
       "0     7590-VHVEG  2020-01-01                   No  Month-to-month   \n",
       "1     5575-GNVDE  2017-04-01                   No        One year   \n",
       "2     3668-QPYBK  2019-10-01  2019-12-01 00:00:00  Month-to-month   \n",
       "3     7795-CFOCW  2016-05-01                   No        One year   \n",
       "4     9237-HQITU  2019-09-01  2019-11-01 00:00:00  Month-to-month   \n",
       "...          ...         ...                  ...             ...   \n",
       "7038  6840-RESVB  2018-02-01                   No        One year   \n",
       "7039  2234-XADUH  2014-02-01                   No        One year   \n",
       "7040  4801-JZAZL  2019-03-01                   No  Month-to-month   \n",
       "7041  8361-LTMKD  2019-07-01  2019-11-01 00:00:00  Month-to-month   \n",
       "7042  3186-AJIEK  2014-08-01                   No        Two year   \n",
       "\n",
       "     PaperlessBilling              PaymentMethod  MonthlyCharges TotalCharges  \n",
       "0                 Yes           Electronic check           29.85        29.85  \n",
       "1                  No               Mailed check           56.95       1889.5  \n",
       "2                 Yes               Mailed check           53.85       108.15  \n",
       "3                  No  Bank transfer (automatic)           42.30      1840.75  \n",
       "4                 Yes           Electronic check           70.70       151.65  \n",
       "...               ...                        ...             ...          ...  \n",
       "7038              Yes               Mailed check           84.80       1990.5  \n",
       "7039              Yes    Credit card (automatic)          103.20       7362.9  \n",
       "7040              Yes           Electronic check           29.60       346.45  \n",
       "7041              Yes               Mailed check           74.40        306.6  \n",
       "7042              Yes  Bank transfer (automatic)          105.65       6844.5  \n",
       "\n",
       "[7043 rows x 8 columns]"
      ]
     },
     "metadata": {},
     "output_type": "display_data"
    },
    {
     "name": "stdout",
     "output_type": "stream",
     "text": [
      "personal\n"
     ]
    },
    {
     "data": {
      "text/html": [
       "<div>\n",
       "<style scoped>\n",
       "    .dataframe tbody tr th:only-of-type {\n",
       "        vertical-align: middle;\n",
       "    }\n",
       "\n",
       "    .dataframe tbody tr th {\n",
       "        vertical-align: top;\n",
       "    }\n",
       "\n",
       "    .dataframe thead th {\n",
       "        text-align: right;\n",
       "    }\n",
       "</style>\n",
       "<table border=\"1\" class=\"dataframe\">\n",
       "  <thead>\n",
       "    <tr style=\"text-align: right;\">\n",
       "      <th></th>\n",
       "      <th>customerID</th>\n",
       "      <th>gender</th>\n",
       "      <th>SeniorCitizen</th>\n",
       "      <th>Partner</th>\n",
       "      <th>Dependents</th>\n",
       "    </tr>\n",
       "  </thead>\n",
       "  <tbody>\n",
       "    <tr>\n",
       "      <th>0</th>\n",
       "      <td>7590-VHVEG</td>\n",
       "      <td>Female</td>\n",
       "      <td>0</td>\n",
       "      <td>Yes</td>\n",
       "      <td>No</td>\n",
       "    </tr>\n",
       "    <tr>\n",
       "      <th>1</th>\n",
       "      <td>5575-GNVDE</td>\n",
       "      <td>Male</td>\n",
       "      <td>0</td>\n",
       "      <td>No</td>\n",
       "      <td>No</td>\n",
       "    </tr>\n",
       "    <tr>\n",
       "      <th>2</th>\n",
       "      <td>3668-QPYBK</td>\n",
       "      <td>Male</td>\n",
       "      <td>0</td>\n",
       "      <td>No</td>\n",
       "      <td>No</td>\n",
       "    </tr>\n",
       "    <tr>\n",
       "      <th>3</th>\n",
       "      <td>7795-CFOCW</td>\n",
       "      <td>Male</td>\n",
       "      <td>0</td>\n",
       "      <td>No</td>\n",
       "      <td>No</td>\n",
       "    </tr>\n",
       "    <tr>\n",
       "      <th>4</th>\n",
       "      <td>9237-HQITU</td>\n",
       "      <td>Female</td>\n",
       "      <td>0</td>\n",
       "      <td>No</td>\n",
       "      <td>No</td>\n",
       "    </tr>\n",
       "    <tr>\n",
       "      <th>...</th>\n",
       "      <td>...</td>\n",
       "      <td>...</td>\n",
       "      <td>...</td>\n",
       "      <td>...</td>\n",
       "      <td>...</td>\n",
       "    </tr>\n",
       "    <tr>\n",
       "      <th>7038</th>\n",
       "      <td>6840-RESVB</td>\n",
       "      <td>Male</td>\n",
       "      <td>0</td>\n",
       "      <td>Yes</td>\n",
       "      <td>Yes</td>\n",
       "    </tr>\n",
       "    <tr>\n",
       "      <th>7039</th>\n",
       "      <td>2234-XADUH</td>\n",
       "      <td>Female</td>\n",
       "      <td>0</td>\n",
       "      <td>Yes</td>\n",
       "      <td>Yes</td>\n",
       "    </tr>\n",
       "    <tr>\n",
       "      <th>7040</th>\n",
       "      <td>4801-JZAZL</td>\n",
       "      <td>Female</td>\n",
       "      <td>0</td>\n",
       "      <td>Yes</td>\n",
       "      <td>Yes</td>\n",
       "    </tr>\n",
       "    <tr>\n",
       "      <th>7041</th>\n",
       "      <td>8361-LTMKD</td>\n",
       "      <td>Male</td>\n",
       "      <td>1</td>\n",
       "      <td>Yes</td>\n",
       "      <td>No</td>\n",
       "    </tr>\n",
       "    <tr>\n",
       "      <th>7042</th>\n",
       "      <td>3186-AJIEK</td>\n",
       "      <td>Male</td>\n",
       "      <td>0</td>\n",
       "      <td>No</td>\n",
       "      <td>No</td>\n",
       "    </tr>\n",
       "  </tbody>\n",
       "</table>\n",
       "<p>7043 rows × 5 columns</p>\n",
       "</div>"
      ],
      "text/plain": [
       "      customerID  gender  SeniorCitizen Partner Dependents\n",
       "0     7590-VHVEG  Female              0     Yes         No\n",
       "1     5575-GNVDE    Male              0      No         No\n",
       "2     3668-QPYBK    Male              0      No         No\n",
       "3     7795-CFOCW    Male              0      No         No\n",
       "4     9237-HQITU  Female              0      No         No\n",
       "...          ...     ...            ...     ...        ...\n",
       "7038  6840-RESVB    Male              0     Yes        Yes\n",
       "7039  2234-XADUH  Female              0     Yes        Yes\n",
       "7040  4801-JZAZL  Female              0     Yes        Yes\n",
       "7041  8361-LTMKD    Male              1     Yes         No\n",
       "7042  3186-AJIEK    Male              0      No         No\n",
       "\n",
       "[7043 rows x 5 columns]"
      ]
     },
     "metadata": {},
     "output_type": "display_data"
    },
    {
     "name": "stdout",
     "output_type": "stream",
     "text": [
      "internet\n"
     ]
    },
    {
     "data": {
      "text/html": [
       "<div>\n",
       "<style scoped>\n",
       "    .dataframe tbody tr th:only-of-type {\n",
       "        vertical-align: middle;\n",
       "    }\n",
       "\n",
       "    .dataframe tbody tr th {\n",
       "        vertical-align: top;\n",
       "    }\n",
       "\n",
       "    .dataframe thead th {\n",
       "        text-align: right;\n",
       "    }\n",
       "</style>\n",
       "<table border=\"1\" class=\"dataframe\">\n",
       "  <thead>\n",
       "    <tr style=\"text-align: right;\">\n",
       "      <th></th>\n",
       "      <th>customerID</th>\n",
       "      <th>InternetService</th>\n",
       "      <th>OnlineSecurity</th>\n",
       "      <th>OnlineBackup</th>\n",
       "      <th>DeviceProtection</th>\n",
       "      <th>TechSupport</th>\n",
       "      <th>StreamingTV</th>\n",
       "      <th>StreamingMovies</th>\n",
       "    </tr>\n",
       "  </thead>\n",
       "  <tbody>\n",
       "    <tr>\n",
       "      <th>0</th>\n",
       "      <td>7590-VHVEG</td>\n",
       "      <td>DSL</td>\n",
       "      <td>No</td>\n",
       "      <td>Yes</td>\n",
       "      <td>No</td>\n",
       "      <td>No</td>\n",
       "      <td>No</td>\n",
       "      <td>No</td>\n",
       "    </tr>\n",
       "    <tr>\n",
       "      <th>1</th>\n",
       "      <td>5575-GNVDE</td>\n",
       "      <td>DSL</td>\n",
       "      <td>Yes</td>\n",
       "      <td>No</td>\n",
       "      <td>Yes</td>\n",
       "      <td>No</td>\n",
       "      <td>No</td>\n",
       "      <td>No</td>\n",
       "    </tr>\n",
       "    <tr>\n",
       "      <th>2</th>\n",
       "      <td>3668-QPYBK</td>\n",
       "      <td>DSL</td>\n",
       "      <td>Yes</td>\n",
       "      <td>Yes</td>\n",
       "      <td>No</td>\n",
       "      <td>No</td>\n",
       "      <td>No</td>\n",
       "      <td>No</td>\n",
       "    </tr>\n",
       "    <tr>\n",
       "      <th>3</th>\n",
       "      <td>7795-CFOCW</td>\n",
       "      <td>DSL</td>\n",
       "      <td>Yes</td>\n",
       "      <td>No</td>\n",
       "      <td>Yes</td>\n",
       "      <td>Yes</td>\n",
       "      <td>No</td>\n",
       "      <td>No</td>\n",
       "    </tr>\n",
       "    <tr>\n",
       "      <th>4</th>\n",
       "      <td>9237-HQITU</td>\n",
       "      <td>Fiber optic</td>\n",
       "      <td>No</td>\n",
       "      <td>No</td>\n",
       "      <td>No</td>\n",
       "      <td>No</td>\n",
       "      <td>No</td>\n",
       "      <td>No</td>\n",
       "    </tr>\n",
       "    <tr>\n",
       "      <th>...</th>\n",
       "      <td>...</td>\n",
       "      <td>...</td>\n",
       "      <td>...</td>\n",
       "      <td>...</td>\n",
       "      <td>...</td>\n",
       "      <td>...</td>\n",
       "      <td>...</td>\n",
       "      <td>...</td>\n",
       "    </tr>\n",
       "    <tr>\n",
       "      <th>5512</th>\n",
       "      <td>6840-RESVB</td>\n",
       "      <td>DSL</td>\n",
       "      <td>Yes</td>\n",
       "      <td>No</td>\n",
       "      <td>Yes</td>\n",
       "      <td>Yes</td>\n",
       "      <td>Yes</td>\n",
       "      <td>Yes</td>\n",
       "    </tr>\n",
       "    <tr>\n",
       "      <th>5513</th>\n",
       "      <td>2234-XADUH</td>\n",
       "      <td>Fiber optic</td>\n",
       "      <td>No</td>\n",
       "      <td>Yes</td>\n",
       "      <td>Yes</td>\n",
       "      <td>No</td>\n",
       "      <td>Yes</td>\n",
       "      <td>Yes</td>\n",
       "    </tr>\n",
       "    <tr>\n",
       "      <th>5514</th>\n",
       "      <td>4801-JZAZL</td>\n",
       "      <td>DSL</td>\n",
       "      <td>Yes</td>\n",
       "      <td>No</td>\n",
       "      <td>No</td>\n",
       "      <td>No</td>\n",
       "      <td>No</td>\n",
       "      <td>No</td>\n",
       "    </tr>\n",
       "    <tr>\n",
       "      <th>5515</th>\n",
       "      <td>8361-LTMKD</td>\n",
       "      <td>Fiber optic</td>\n",
       "      <td>No</td>\n",
       "      <td>No</td>\n",
       "      <td>No</td>\n",
       "      <td>No</td>\n",
       "      <td>No</td>\n",
       "      <td>No</td>\n",
       "    </tr>\n",
       "    <tr>\n",
       "      <th>5516</th>\n",
       "      <td>3186-AJIEK</td>\n",
       "      <td>Fiber optic</td>\n",
       "      <td>Yes</td>\n",
       "      <td>No</td>\n",
       "      <td>Yes</td>\n",
       "      <td>Yes</td>\n",
       "      <td>Yes</td>\n",
       "      <td>Yes</td>\n",
       "    </tr>\n",
       "  </tbody>\n",
       "</table>\n",
       "<p>5517 rows × 8 columns</p>\n",
       "</div>"
      ],
      "text/plain": [
       "      customerID InternetService OnlineSecurity OnlineBackup DeviceProtection  \\\n",
       "0     7590-VHVEG             DSL             No          Yes               No   \n",
       "1     5575-GNVDE             DSL            Yes           No              Yes   \n",
       "2     3668-QPYBK             DSL            Yes          Yes               No   \n",
       "3     7795-CFOCW             DSL            Yes           No              Yes   \n",
       "4     9237-HQITU     Fiber optic             No           No               No   \n",
       "...          ...             ...            ...          ...              ...   \n",
       "5512  6840-RESVB             DSL            Yes           No              Yes   \n",
       "5513  2234-XADUH     Fiber optic             No          Yes              Yes   \n",
       "5514  4801-JZAZL             DSL            Yes           No               No   \n",
       "5515  8361-LTMKD     Fiber optic             No           No               No   \n",
       "5516  3186-AJIEK     Fiber optic            Yes           No              Yes   \n",
       "\n",
       "     TechSupport StreamingTV StreamingMovies  \n",
       "0             No          No              No  \n",
       "1             No          No              No  \n",
       "2             No          No              No  \n",
       "3            Yes          No              No  \n",
       "4             No          No              No  \n",
       "...          ...         ...             ...  \n",
       "5512         Yes         Yes             Yes  \n",
       "5513          No         Yes             Yes  \n",
       "5514          No          No              No  \n",
       "5515          No          No              No  \n",
       "5516         Yes         Yes             Yes  \n",
       "\n",
       "[5517 rows x 8 columns]"
      ]
     },
     "metadata": {},
     "output_type": "display_data"
    },
    {
     "name": "stdout",
     "output_type": "stream",
     "text": [
      "phone\n"
     ]
    },
    {
     "data": {
      "text/html": [
       "<div>\n",
       "<style scoped>\n",
       "    .dataframe tbody tr th:only-of-type {\n",
       "        vertical-align: middle;\n",
       "    }\n",
       "\n",
       "    .dataframe tbody tr th {\n",
       "        vertical-align: top;\n",
       "    }\n",
       "\n",
       "    .dataframe thead th {\n",
       "        text-align: right;\n",
       "    }\n",
       "</style>\n",
       "<table border=\"1\" class=\"dataframe\">\n",
       "  <thead>\n",
       "    <tr style=\"text-align: right;\">\n",
       "      <th></th>\n",
       "      <th>customerID</th>\n",
       "      <th>MultipleLines</th>\n",
       "    </tr>\n",
       "  </thead>\n",
       "  <tbody>\n",
       "    <tr>\n",
       "      <th>0</th>\n",
       "      <td>5575-GNVDE</td>\n",
       "      <td>No</td>\n",
       "    </tr>\n",
       "    <tr>\n",
       "      <th>1</th>\n",
       "      <td>3668-QPYBK</td>\n",
       "      <td>No</td>\n",
       "    </tr>\n",
       "    <tr>\n",
       "      <th>2</th>\n",
       "      <td>9237-HQITU</td>\n",
       "      <td>No</td>\n",
       "    </tr>\n",
       "    <tr>\n",
       "      <th>3</th>\n",
       "      <td>9305-CDSKC</td>\n",
       "      <td>Yes</td>\n",
       "    </tr>\n",
       "    <tr>\n",
       "      <th>4</th>\n",
       "      <td>1452-KIOVK</td>\n",
       "      <td>Yes</td>\n",
       "    </tr>\n",
       "    <tr>\n",
       "      <th>...</th>\n",
       "      <td>...</td>\n",
       "      <td>...</td>\n",
       "    </tr>\n",
       "    <tr>\n",
       "      <th>6356</th>\n",
       "      <td>2569-WGERO</td>\n",
       "      <td>No</td>\n",
       "    </tr>\n",
       "    <tr>\n",
       "      <th>6357</th>\n",
       "      <td>6840-RESVB</td>\n",
       "      <td>Yes</td>\n",
       "    </tr>\n",
       "    <tr>\n",
       "      <th>6358</th>\n",
       "      <td>2234-XADUH</td>\n",
       "      <td>Yes</td>\n",
       "    </tr>\n",
       "    <tr>\n",
       "      <th>6359</th>\n",
       "      <td>8361-LTMKD</td>\n",
       "      <td>Yes</td>\n",
       "    </tr>\n",
       "    <tr>\n",
       "      <th>6360</th>\n",
       "      <td>3186-AJIEK</td>\n",
       "      <td>No</td>\n",
       "    </tr>\n",
       "  </tbody>\n",
       "</table>\n",
       "<p>6361 rows × 2 columns</p>\n",
       "</div>"
      ],
      "text/plain": [
       "      customerID MultipleLines\n",
       "0     5575-GNVDE            No\n",
       "1     3668-QPYBK            No\n",
       "2     9237-HQITU            No\n",
       "3     9305-CDSKC           Yes\n",
       "4     1452-KIOVK           Yes\n",
       "...          ...           ...\n",
       "6356  2569-WGERO            No\n",
       "6357  6840-RESVB           Yes\n",
       "6358  2234-XADUH           Yes\n",
       "6359  8361-LTMKD           Yes\n",
       "6360  3186-AJIEK            No\n",
       "\n",
       "[6361 rows x 2 columns]"
      ]
     },
     "metadata": {},
     "output_type": "display_data"
    }
   ],
   "source": [
    "#Cargar Datasets\n",
    "df_contract = pd.read_csv('/datasets/contract.csv')\n",
    "df_personal = pd.read_csv('/datasets/personal.csv')\n",
    "df_internet = pd.read_csv('/datasets/final_provider/internet.csv')\n",
    "df_phone = pd.read_csv('/datasets/phone.csv')\n",
    "print('contract')\n",
    "display (df_contract)\n",
    "print('personal')\n",
    "display (df_personal)\n",
    "print('internet')\n",
    "display (df_internet)\n",
    "print('phone')\n",
    "display (df_phone)"
   ]
  },
  {
   "cell_type": "code",
   "execution_count": 3,
   "id": "70dbf0f5",
   "metadata": {
    "scrolled": false
   },
   "outputs": [
    {
     "data": {
      "text/html": [
       "<div>\n",
       "<style scoped>\n",
       "    .dataframe tbody tr th:only-of-type {\n",
       "        vertical-align: middle;\n",
       "    }\n",
       "\n",
       "    .dataframe tbody tr th {\n",
       "        vertical-align: top;\n",
       "    }\n",
       "\n",
       "    .dataframe thead th {\n",
       "        text-align: right;\n",
       "    }\n",
       "</style>\n",
       "<table border=\"1\" class=\"dataframe\">\n",
       "  <thead>\n",
       "    <tr style=\"text-align: right;\">\n",
       "      <th></th>\n",
       "      <th>customerID</th>\n",
       "      <th>BeginDate</th>\n",
       "      <th>EndDate</th>\n",
       "      <th>Type</th>\n",
       "      <th>PaperlessBilling</th>\n",
       "      <th>PaymentMethod</th>\n",
       "      <th>MonthlyCharges</th>\n",
       "      <th>TotalCharges</th>\n",
       "      <th>gender</th>\n",
       "      <th>SeniorCitizen</th>\n",
       "      <th>Partner</th>\n",
       "      <th>Dependents</th>\n",
       "      <th>InternetService</th>\n",
       "      <th>OnlineSecurity</th>\n",
       "      <th>OnlineBackup</th>\n",
       "      <th>DeviceProtection</th>\n",
       "      <th>TechSupport</th>\n",
       "      <th>StreamingTV</th>\n",
       "      <th>StreamingMovies</th>\n",
       "      <th>MultipleLines</th>\n",
       "    </tr>\n",
       "  </thead>\n",
       "  <tbody>\n",
       "    <tr>\n",
       "      <th>0</th>\n",
       "      <td>7590-VHVEG</td>\n",
       "      <td>2020-01-01</td>\n",
       "      <td>No</td>\n",
       "      <td>Month-to-month</td>\n",
       "      <td>Yes</td>\n",
       "      <td>Electronic check</td>\n",
       "      <td>29.85</td>\n",
       "      <td>29.85</td>\n",
       "      <td>Female</td>\n",
       "      <td>0</td>\n",
       "      <td>Yes</td>\n",
       "      <td>No</td>\n",
       "      <td>DSL</td>\n",
       "      <td>No</td>\n",
       "      <td>Yes</td>\n",
       "      <td>No</td>\n",
       "      <td>No</td>\n",
       "      <td>No</td>\n",
       "      <td>No</td>\n",
       "      <td>NaN</td>\n",
       "    </tr>\n",
       "    <tr>\n",
       "      <th>1</th>\n",
       "      <td>5575-GNVDE</td>\n",
       "      <td>2017-04-01</td>\n",
       "      <td>No</td>\n",
       "      <td>One year</td>\n",
       "      <td>No</td>\n",
       "      <td>Mailed check</td>\n",
       "      <td>56.95</td>\n",
       "      <td>1889.5</td>\n",
       "      <td>Male</td>\n",
       "      <td>0</td>\n",
       "      <td>No</td>\n",
       "      <td>No</td>\n",
       "      <td>DSL</td>\n",
       "      <td>Yes</td>\n",
       "      <td>No</td>\n",
       "      <td>Yes</td>\n",
       "      <td>No</td>\n",
       "      <td>No</td>\n",
       "      <td>No</td>\n",
       "      <td>No</td>\n",
       "    </tr>\n",
       "    <tr>\n",
       "      <th>2</th>\n",
       "      <td>3668-QPYBK</td>\n",
       "      <td>2019-10-01</td>\n",
       "      <td>2019-12-01 00:00:00</td>\n",
       "      <td>Month-to-month</td>\n",
       "      <td>Yes</td>\n",
       "      <td>Mailed check</td>\n",
       "      <td>53.85</td>\n",
       "      <td>108.15</td>\n",
       "      <td>Male</td>\n",
       "      <td>0</td>\n",
       "      <td>No</td>\n",
       "      <td>No</td>\n",
       "      <td>DSL</td>\n",
       "      <td>Yes</td>\n",
       "      <td>Yes</td>\n",
       "      <td>No</td>\n",
       "      <td>No</td>\n",
       "      <td>No</td>\n",
       "      <td>No</td>\n",
       "      <td>No</td>\n",
       "    </tr>\n",
       "    <tr>\n",
       "      <th>3</th>\n",
       "      <td>7795-CFOCW</td>\n",
       "      <td>2016-05-01</td>\n",
       "      <td>No</td>\n",
       "      <td>One year</td>\n",
       "      <td>No</td>\n",
       "      <td>Bank transfer (automatic)</td>\n",
       "      <td>42.30</td>\n",
       "      <td>1840.75</td>\n",
       "      <td>Male</td>\n",
       "      <td>0</td>\n",
       "      <td>No</td>\n",
       "      <td>No</td>\n",
       "      <td>DSL</td>\n",
       "      <td>Yes</td>\n",
       "      <td>No</td>\n",
       "      <td>Yes</td>\n",
       "      <td>Yes</td>\n",
       "      <td>No</td>\n",
       "      <td>No</td>\n",
       "      <td>NaN</td>\n",
       "    </tr>\n",
       "    <tr>\n",
       "      <th>4</th>\n",
       "      <td>9237-HQITU</td>\n",
       "      <td>2019-09-01</td>\n",
       "      <td>2019-11-01 00:00:00</td>\n",
       "      <td>Month-to-month</td>\n",
       "      <td>Yes</td>\n",
       "      <td>Electronic check</td>\n",
       "      <td>70.70</td>\n",
       "      <td>151.65</td>\n",
       "      <td>Female</td>\n",
       "      <td>0</td>\n",
       "      <td>No</td>\n",
       "      <td>No</td>\n",
       "      <td>Fiber optic</td>\n",
       "      <td>No</td>\n",
       "      <td>No</td>\n",
       "      <td>No</td>\n",
       "      <td>No</td>\n",
       "      <td>No</td>\n",
       "      <td>No</td>\n",
       "      <td>No</td>\n",
       "    </tr>\n",
       "    <tr>\n",
       "      <th>...</th>\n",
       "      <td>...</td>\n",
       "      <td>...</td>\n",
       "      <td>...</td>\n",
       "      <td>...</td>\n",
       "      <td>...</td>\n",
       "      <td>...</td>\n",
       "      <td>...</td>\n",
       "      <td>...</td>\n",
       "      <td>...</td>\n",
       "      <td>...</td>\n",
       "      <td>...</td>\n",
       "      <td>...</td>\n",
       "      <td>...</td>\n",
       "      <td>...</td>\n",
       "      <td>...</td>\n",
       "      <td>...</td>\n",
       "      <td>...</td>\n",
       "      <td>...</td>\n",
       "      <td>...</td>\n",
       "      <td>...</td>\n",
       "    </tr>\n",
       "    <tr>\n",
       "      <th>7038</th>\n",
       "      <td>6840-RESVB</td>\n",
       "      <td>2018-02-01</td>\n",
       "      <td>No</td>\n",
       "      <td>One year</td>\n",
       "      <td>Yes</td>\n",
       "      <td>Mailed check</td>\n",
       "      <td>84.80</td>\n",
       "      <td>1990.5</td>\n",
       "      <td>Male</td>\n",
       "      <td>0</td>\n",
       "      <td>Yes</td>\n",
       "      <td>Yes</td>\n",
       "      <td>DSL</td>\n",
       "      <td>Yes</td>\n",
       "      <td>No</td>\n",
       "      <td>Yes</td>\n",
       "      <td>Yes</td>\n",
       "      <td>Yes</td>\n",
       "      <td>Yes</td>\n",
       "      <td>Yes</td>\n",
       "    </tr>\n",
       "    <tr>\n",
       "      <th>7039</th>\n",
       "      <td>2234-XADUH</td>\n",
       "      <td>2014-02-01</td>\n",
       "      <td>No</td>\n",
       "      <td>One year</td>\n",
       "      <td>Yes</td>\n",
       "      <td>Credit card (automatic)</td>\n",
       "      <td>103.20</td>\n",
       "      <td>7362.9</td>\n",
       "      <td>Female</td>\n",
       "      <td>0</td>\n",
       "      <td>Yes</td>\n",
       "      <td>Yes</td>\n",
       "      <td>Fiber optic</td>\n",
       "      <td>No</td>\n",
       "      <td>Yes</td>\n",
       "      <td>Yes</td>\n",
       "      <td>No</td>\n",
       "      <td>Yes</td>\n",
       "      <td>Yes</td>\n",
       "      <td>Yes</td>\n",
       "    </tr>\n",
       "    <tr>\n",
       "      <th>7040</th>\n",
       "      <td>4801-JZAZL</td>\n",
       "      <td>2019-03-01</td>\n",
       "      <td>No</td>\n",
       "      <td>Month-to-month</td>\n",
       "      <td>Yes</td>\n",
       "      <td>Electronic check</td>\n",
       "      <td>29.60</td>\n",
       "      <td>346.45</td>\n",
       "      <td>Female</td>\n",
       "      <td>0</td>\n",
       "      <td>Yes</td>\n",
       "      <td>Yes</td>\n",
       "      <td>DSL</td>\n",
       "      <td>Yes</td>\n",
       "      <td>No</td>\n",
       "      <td>No</td>\n",
       "      <td>No</td>\n",
       "      <td>No</td>\n",
       "      <td>No</td>\n",
       "      <td>NaN</td>\n",
       "    </tr>\n",
       "    <tr>\n",
       "      <th>7041</th>\n",
       "      <td>8361-LTMKD</td>\n",
       "      <td>2019-07-01</td>\n",
       "      <td>2019-11-01 00:00:00</td>\n",
       "      <td>Month-to-month</td>\n",
       "      <td>Yes</td>\n",
       "      <td>Mailed check</td>\n",
       "      <td>74.40</td>\n",
       "      <td>306.6</td>\n",
       "      <td>Male</td>\n",
       "      <td>1</td>\n",
       "      <td>Yes</td>\n",
       "      <td>No</td>\n",
       "      <td>Fiber optic</td>\n",
       "      <td>No</td>\n",
       "      <td>No</td>\n",
       "      <td>No</td>\n",
       "      <td>No</td>\n",
       "      <td>No</td>\n",
       "      <td>No</td>\n",
       "      <td>Yes</td>\n",
       "    </tr>\n",
       "    <tr>\n",
       "      <th>7042</th>\n",
       "      <td>3186-AJIEK</td>\n",
       "      <td>2014-08-01</td>\n",
       "      <td>No</td>\n",
       "      <td>Two year</td>\n",
       "      <td>Yes</td>\n",
       "      <td>Bank transfer (automatic)</td>\n",
       "      <td>105.65</td>\n",
       "      <td>6844.5</td>\n",
       "      <td>Male</td>\n",
       "      <td>0</td>\n",
       "      <td>No</td>\n",
       "      <td>No</td>\n",
       "      <td>Fiber optic</td>\n",
       "      <td>Yes</td>\n",
       "      <td>No</td>\n",
       "      <td>Yes</td>\n",
       "      <td>Yes</td>\n",
       "      <td>Yes</td>\n",
       "      <td>Yes</td>\n",
       "      <td>No</td>\n",
       "    </tr>\n",
       "  </tbody>\n",
       "</table>\n",
       "<p>7043 rows × 20 columns</p>\n",
       "</div>"
      ],
      "text/plain": [
       "      customerID   BeginDate              EndDate            Type  \\\n",
       "0     7590-VHVEG  2020-01-01                   No  Month-to-month   \n",
       "1     5575-GNVDE  2017-04-01                   No        One year   \n",
       "2     3668-QPYBK  2019-10-01  2019-12-01 00:00:00  Month-to-month   \n",
       "3     7795-CFOCW  2016-05-01                   No        One year   \n",
       "4     9237-HQITU  2019-09-01  2019-11-01 00:00:00  Month-to-month   \n",
       "...          ...         ...                  ...             ...   \n",
       "7038  6840-RESVB  2018-02-01                   No        One year   \n",
       "7039  2234-XADUH  2014-02-01                   No        One year   \n",
       "7040  4801-JZAZL  2019-03-01                   No  Month-to-month   \n",
       "7041  8361-LTMKD  2019-07-01  2019-11-01 00:00:00  Month-to-month   \n",
       "7042  3186-AJIEK  2014-08-01                   No        Two year   \n",
       "\n",
       "     PaperlessBilling              PaymentMethod  MonthlyCharges TotalCharges  \\\n",
       "0                 Yes           Electronic check           29.85        29.85   \n",
       "1                  No               Mailed check           56.95       1889.5   \n",
       "2                 Yes               Mailed check           53.85       108.15   \n",
       "3                  No  Bank transfer (automatic)           42.30      1840.75   \n",
       "4                 Yes           Electronic check           70.70       151.65   \n",
       "...               ...                        ...             ...          ...   \n",
       "7038              Yes               Mailed check           84.80       1990.5   \n",
       "7039              Yes    Credit card (automatic)          103.20       7362.9   \n",
       "7040              Yes           Electronic check           29.60       346.45   \n",
       "7041              Yes               Mailed check           74.40        306.6   \n",
       "7042              Yes  Bank transfer (automatic)          105.65       6844.5   \n",
       "\n",
       "      gender  SeniorCitizen Partner Dependents InternetService OnlineSecurity  \\\n",
       "0     Female              0     Yes         No             DSL             No   \n",
       "1       Male              0      No         No             DSL            Yes   \n",
       "2       Male              0      No         No             DSL            Yes   \n",
       "3       Male              0      No         No             DSL            Yes   \n",
       "4     Female              0      No         No     Fiber optic             No   \n",
       "...      ...            ...     ...        ...             ...            ...   \n",
       "7038    Male              0     Yes        Yes             DSL            Yes   \n",
       "7039  Female              0     Yes        Yes     Fiber optic             No   \n",
       "7040  Female              0     Yes        Yes             DSL            Yes   \n",
       "7041    Male              1     Yes         No     Fiber optic             No   \n",
       "7042    Male              0      No         No     Fiber optic            Yes   \n",
       "\n",
       "     OnlineBackup DeviceProtection TechSupport StreamingTV StreamingMovies  \\\n",
       "0             Yes               No          No          No              No   \n",
       "1              No              Yes          No          No              No   \n",
       "2             Yes               No          No          No              No   \n",
       "3              No              Yes         Yes          No              No   \n",
       "4              No               No          No          No              No   \n",
       "...           ...              ...         ...         ...             ...   \n",
       "7038           No              Yes         Yes         Yes             Yes   \n",
       "7039          Yes              Yes          No         Yes             Yes   \n",
       "7040           No               No          No          No              No   \n",
       "7041           No               No          No          No              No   \n",
       "7042           No              Yes         Yes         Yes             Yes   \n",
       "\n",
       "     MultipleLines  \n",
       "0              NaN  \n",
       "1               No  \n",
       "2               No  \n",
       "3              NaN  \n",
       "4               No  \n",
       "...            ...  \n",
       "7038           Yes  \n",
       "7039           Yes  \n",
       "7040           NaN  \n",
       "7041           Yes  \n",
       "7042            No  \n",
       "\n",
       "[7043 rows x 20 columns]"
      ]
     },
     "metadata": {},
     "output_type": "display_data"
    }
   ],
   "source": [
    "#Unir Datasets por customerIDb\n",
    "df_2 = pd.merge(df_contract, df_personal , on = 'customerID', how = 'left')\n",
    "df_3 = pd.merge(df_2, df_internet , on = 'customerID', how = 'left')\n",
    "data = pd.merge(df_3, df_phone , on = 'customerID', how = 'left')\n",
    "display(data)"
   ]
  },
  {
   "cell_type": "markdown",
   "id": "6f35bccc",
   "metadata": {},
   "source": [
    "<div class=\"alert alert-block alert-danger\">\n",
    "<b>Comentario del revisor (1ra Iteracion)</b> <a class=“tocSkip”></a>\n",
    "\n",
    "Tienes un plan de trabajo bastante bien detallado, pero esta parte de tu análisis exploratorio no se puede ejecutar causando error en el resto de columnas. Es importante que realices el preprocesamiento de tus datos donde trates el tipo de dato de cada columna, los nombres de cada columna para que tengas un estandar que por lo general es snake_case, trata valores nulos y duplicados, etc.\n",
    "</div>"
   ]
  },
  {
   "cell_type": "markdown",
   "id": "9a21390f",
   "metadata": {},
   "source": [
    "\n",
    "<div class=\"alert alert-block alert-info\">\n",
    "<b>Resolví el problema de la carga de datos</b> <a class=“tocSkip”></a>\n",
    "</div>"
   ]
  },
  {
   "cell_type": "markdown",
   "id": "d17ed28c",
   "metadata": {},
   "source": [
    "###  Limpieza de datos"
   ]
  },
  {
   "cell_type": "code",
   "execution_count": 4,
   "id": "243fe71e",
   "metadata": {},
   "outputs": [
    {
     "name": "stdout",
     "output_type": "stream",
     "text": [
      "<class 'pandas.core.frame.DataFrame'>\n",
      "Int64Index: 7043 entries, 0 to 7042\n",
      "Data columns (total 20 columns):\n",
      " #   Column            Non-Null Count  Dtype  \n",
      "---  ------            --------------  -----  \n",
      " 0   customerID        7043 non-null   object \n",
      " 1   BeginDate         7043 non-null   object \n",
      " 2   EndDate           7043 non-null   object \n",
      " 3   Type              7043 non-null   object \n",
      " 4   PaperlessBilling  7043 non-null   object \n",
      " 5   PaymentMethod     7043 non-null   object \n",
      " 6   MonthlyCharges    7043 non-null   float64\n",
      " 7   TotalCharges      7043 non-null   object \n",
      " 8   gender            7043 non-null   object \n",
      " 9   SeniorCitizen     7043 non-null   int64  \n",
      " 10  Partner           7043 non-null   object \n",
      " 11  Dependents        7043 non-null   object \n",
      " 12  InternetService   5517 non-null   object \n",
      " 13  OnlineSecurity    5517 non-null   object \n",
      " 14  OnlineBackup      5517 non-null   object \n",
      " 15  DeviceProtection  5517 non-null   object \n",
      " 16  TechSupport       5517 non-null   object \n",
      " 17  StreamingTV       5517 non-null   object \n",
      " 18  StreamingMovies   5517 non-null   object \n",
      " 19  MultipleLines     6361 non-null   object \n",
      "dtypes: float64(1), int64(1), object(18)\n",
      "memory usage: 1.1+ MB\n",
      "None\n"
     ]
    }
   ],
   "source": [
    "#Revisamos el tipo de datos\n",
    "print(data.info())"
   ]
  },
  {
   "cell_type": "code",
   "execution_count": 5,
   "id": "0c654bc2",
   "metadata": {
    "scrolled": false
   },
   "outputs": [],
   "source": [
    "#Cambiar tipo de datos a las columnas de Begin y End Date\n",
    "data['BeginDate'] = pd.to_datetime(data['BeginDate'], format='%Y-%m-%d')"
   ]
  },
  {
   "cell_type": "code",
   "execution_count": 6,
   "id": "6e1cb550",
   "metadata": {},
   "outputs": [
    {
     "name": "stdout",
     "output_type": "stream",
     "text": [
      "No     1184\n",
      "Yes     342\n",
      "Name: MultipleLines, dtype: int64\n",
      "DSL    682\n",
      "Name: InternetService, dtype: int64\n"
     ]
    }
   ],
   "source": [
    "#Checamos y tratamos valores nulos\n",
    "data_internet_null = data[data['InternetService'].isna()]\n",
    "data_phone_null = data[data['MultipleLines'].isna()]\n",
    "print(data_internet_null['MultipleLines'].value_counts())\n",
    "print(data_phone_null['InternetService'].value_counts())"
   ]
  },
  {
   "cell_type": "markdown",
   "id": "cc2556e6",
   "metadata": {},
   "source": [
    "Al observar los valores nulos de las columnas de internet y teléfono, podemos checar que son valores nulos por que algunas personas contratan sólo internet y otras sólo teélefono."
   ]
  },
  {
   "cell_type": "code",
   "execution_count": 7,
   "id": "8b4425e9",
   "metadata": {},
   "outputs": [],
   "source": [
    "#Rellenamos los valores nulos con NA = no aplica\n",
    "data.fillna('NA', inplace = True)"
   ]
  },
  {
   "cell_type": "code",
   "execution_count": 8,
   "id": "e10a4e4c",
   "metadata": {},
   "outputs": [
    {
     "name": "stdout",
     "output_type": "stream",
     "text": [
      "3679-XASPY    1\n",
      "7666-WKRON    1\n",
      "0488-GSLFR    1\n",
      "0743-HRVFF    1\n",
      "7771-CFQRQ    1\n",
      "             ..\n",
      "3533-UVMOM    1\n",
      "4110-PFEUZ    1\n",
      "4918-QLLIW    1\n",
      "7789-HKSBS    1\n",
      "5183-KLYEM    1\n",
      "Name: customerID, Length: 7043, dtype: int64\n"
     ]
    }
   ],
   "source": [
    "#Checamos si hay valores duplicados\n",
    "data_duplicated = data['customerID'].value_counts()\n",
    "print(data_duplicated)"
   ]
  },
  {
   "cell_type": "code",
   "execution_count": 9,
   "id": "6e0f6697",
   "metadata": {},
   "outputs": [
    {
     "name": "stdout",
     "output_type": "stream",
     "text": [
      "      customerID  BeginDate EndDate            Type PaperlessBilling  \\\n",
      "0     7590-VHVEG 2020-01-01      No  Month-to-month              Yes   \n",
      "1     5575-GNVDE 2017-04-01      No        One year               No   \n",
      "3     7795-CFOCW 2016-05-01      No        One year               No   \n",
      "6     1452-KIOVK 2018-04-01      No  Month-to-month              Yes   \n",
      "7     6713-OKOMC 2019-04-01      No  Month-to-month               No   \n",
      "...          ...        ...     ...             ...              ...   \n",
      "7037  2569-WGERO 2014-02-01      No        Two year              Yes   \n",
      "7038  6840-RESVB 2018-02-01      No        One year              Yes   \n",
      "7039  2234-XADUH 2014-02-01      No        One year              Yes   \n",
      "7040  4801-JZAZL 2019-03-01      No  Month-to-month              Yes   \n",
      "7042  3186-AJIEK 2014-08-01      No        Two year              Yes   \n",
      "\n",
      "                  PaymentMethod  MonthlyCharges TotalCharges  gender  \\\n",
      "0              Electronic check           29.85        29.85  Female   \n",
      "1                  Mailed check           56.95       1889.5    Male   \n",
      "3     Bank transfer (automatic)           42.30      1840.75    Male   \n",
      "6       Credit card (automatic)           89.10       1949.4    Male   \n",
      "7                  Mailed check           29.75        301.9  Female   \n",
      "...                         ...             ...          ...     ...   \n",
      "7037  Bank transfer (automatic)           21.15       1419.4  Female   \n",
      "7038               Mailed check           84.80       1990.5    Male   \n",
      "7039    Credit card (automatic)          103.20       7362.9  Female   \n",
      "7040           Electronic check           29.60       346.45  Female   \n",
      "7042  Bank transfer (automatic)          105.65       6844.5    Male   \n",
      "\n",
      "      SeniorCitizen Partner Dependents InternetService OnlineSecurity  \\\n",
      "0                 0     Yes         No             DSL             No   \n",
      "1                 0      No         No             DSL            Yes   \n",
      "3                 0      No         No             DSL            Yes   \n",
      "6                 0      No        Yes     Fiber optic             No   \n",
      "7                 0      No         No             DSL            Yes   \n",
      "...             ...     ...        ...             ...            ...   \n",
      "7037              0      No         No              NA             NA   \n",
      "7038              0     Yes        Yes             DSL            Yes   \n",
      "7039              0     Yes        Yes     Fiber optic             No   \n",
      "7040              0     Yes        Yes             DSL            Yes   \n",
      "7042              0      No         No     Fiber optic            Yes   \n",
      "\n",
      "     OnlineBackup DeviceProtection TechSupport StreamingTV StreamingMovies  \\\n",
      "0             Yes               No          No          No              No   \n",
      "1              No              Yes          No          No              No   \n",
      "3              No              Yes         Yes          No              No   \n",
      "6             Yes               No          No         Yes              No   \n",
      "7              No               No          No          No              No   \n",
      "...           ...              ...         ...         ...             ...   \n",
      "7037           NA               NA          NA          NA              NA   \n",
      "7038           No              Yes         Yes         Yes             Yes   \n",
      "7039          Yes              Yes          No         Yes             Yes   \n",
      "7040           No               No          No          No              No   \n",
      "7042           No              Yes         Yes         Yes             Yes   \n",
      "\n",
      "     MultipleLines  \n",
      "0               NA  \n",
      "1               No  \n",
      "3               NA  \n",
      "6              Yes  \n",
      "7               NA  \n",
      "...            ...  \n",
      "7037            No  \n",
      "7038           Yes  \n",
      "7039           Yes  \n",
      "7040            NA  \n",
      "7042            No  \n",
      "\n",
      "[5174 rows x 20 columns]\n",
      "      customerID  BeginDate              EndDate            Type  \\\n",
      "2     3668-QPYBK 2019-10-01  2019-12-01 00:00:00  Month-to-month   \n",
      "4     9237-HQITU 2019-09-01  2019-11-01 00:00:00  Month-to-month   \n",
      "5     9305-CDSKC 2019-03-01  2019-11-01 00:00:00  Month-to-month   \n",
      "8     7892-POOKP 2017-07-01  2019-11-01 00:00:00  Month-to-month   \n",
      "13    0280-XJGEX 2015-09-01  2019-10-01 00:00:00  Month-to-month   \n",
      "...          ...        ...                  ...             ...   \n",
      "7021  1699-HPSBG 2018-11-01  2019-11-01 00:00:00        One year   \n",
      "7026  8775-CEBBJ 2019-02-01  2019-11-01 00:00:00  Month-to-month   \n",
      "7032  6894-LFHLY 2019-10-01  2019-11-01 00:00:00  Month-to-month   \n",
      "7034  0639-TSIQW 2014-03-01  2019-10-01 00:00:00  Month-to-month   \n",
      "7041  8361-LTMKD 2019-07-01  2019-11-01 00:00:00  Month-to-month   \n",
      "\n",
      "     PaperlessBilling              PaymentMethod  MonthlyCharges TotalCharges  \\\n",
      "2                 Yes               Mailed check           53.85       108.15   \n",
      "4                 Yes           Electronic check           70.70       151.65   \n",
      "5                 Yes           Electronic check           99.65        820.5   \n",
      "8                 Yes           Electronic check          104.80      3046.05   \n",
      "13                Yes  Bank transfer (automatic)          103.70       5036.3   \n",
      "...               ...                        ...             ...          ...   \n",
      "7021              Yes           Electronic check           59.80        727.8   \n",
      "7026              Yes  Bank transfer (automatic)           44.20       403.35   \n",
      "7032              Yes           Electronic check           75.75        75.75   \n",
      "7034              Yes    Credit card (automatic)          102.95      6886.25   \n",
      "7041              Yes               Mailed check           74.40        306.6   \n",
      "\n",
      "      gender  SeniorCitizen Partner Dependents InternetService OnlineSecurity  \\\n",
      "2       Male              0      No         No             DSL            Yes   \n",
      "4     Female              0      No         No     Fiber optic             No   \n",
      "5     Female              0      No         No     Fiber optic             No   \n",
      "8     Female              0     Yes         No     Fiber optic             No   \n",
      "13      Male              0      No         No     Fiber optic             No   \n",
      "...      ...            ...     ...        ...             ...            ...   \n",
      "7021    Male              0      No         No             DSL             No   \n",
      "7026  Female              0      No         No             DSL             No   \n",
      "7032    Male              1      No         No     Fiber optic             No   \n",
      "7034  Female              0      No         No     Fiber optic            Yes   \n",
      "7041    Male              1     Yes         No     Fiber optic             No   \n",
      "\n",
      "     OnlineBackup DeviceProtection TechSupport StreamingTV StreamingMovies  \\\n",
      "2             Yes               No          No          No              No   \n",
      "4              No               No          No          No              No   \n",
      "5              No              Yes          No         Yes             Yes   \n",
      "8              No              Yes         Yes         Yes             Yes   \n",
      "13            Yes              Yes          No         Yes             Yes   \n",
      "...           ...              ...         ...         ...             ...   \n",
      "7021           No               No         Yes         Yes              No   \n",
      "7026           No               No          No          No              No   \n",
      "7032           No               No          No          No              No   \n",
      "7034          Yes              Yes          No         Yes              No   \n",
      "7041           No               No          No          No              No   \n",
      "\n",
      "     MultipleLines  \n",
      "2               No  \n",
      "4               No  \n",
      "5              Yes  \n",
      "8              Yes  \n",
      "13             Yes  \n",
      "...            ...  \n",
      "7021            No  \n",
      "7026            No  \n",
      "7032           Yes  \n",
      "7034           Yes  \n",
      "7041           Yes  \n",
      "\n",
      "[1869 rows x 20 columns]\n"
     ]
    }
   ],
   "source": [
    "#Dividiré los datos en 2 datasets con: \n",
    "#uno que contenga a todos los usuarios que ya finalizaron contrato y los que aún no\n",
    "\n",
    "users_asset = data[(data['EndDate']== 'No')]\n",
    "print(users_asset)\n",
    "\n",
    "users_withdrawn = data[(data['EndDate']!= 'No')]\n",
    "print(users_withdrawn)\n",
    "\n"
   ]
  },
  {
   "cell_type": "code",
   "execution_count": 10,
   "id": "1b71915b",
   "metadata": {
    "scrolled": true
   },
   "outputs": [
    {
     "name": "stdout",
     "output_type": "stream",
     "text": [
      "<class 'pandas.core.frame.DataFrame'>\n",
      "Int64Index: 1869 entries, 2 to 7041\n",
      "Data columns (total 20 columns):\n",
      " #   Column            Non-Null Count  Dtype         \n",
      "---  ------            --------------  -----         \n",
      " 0   customerID        1869 non-null   object        \n",
      " 1   BeginDate         1869 non-null   datetime64[ns]\n",
      " 2   EndDate           1869 non-null   datetime64[ns]\n",
      " 3   Type              1869 non-null   object        \n",
      " 4   PaperlessBilling  1869 non-null   object        \n",
      " 5   PaymentMethod     1869 non-null   object        \n",
      " 6   MonthlyCharges    1869 non-null   float64       \n",
      " 7   TotalCharges      1869 non-null   object        \n",
      " 8   gender            1869 non-null   object        \n",
      " 9   SeniorCitizen     1869 non-null   int64         \n",
      " 10  Partner           1869 non-null   object        \n",
      " 11  Dependents        1869 non-null   object        \n",
      " 12  InternetService   1869 non-null   object        \n",
      " 13  OnlineSecurity    1869 non-null   object        \n",
      " 14  OnlineBackup      1869 non-null   object        \n",
      " 15  DeviceProtection  1869 non-null   object        \n",
      " 16  TechSupport       1869 non-null   object        \n",
      " 17  StreamingTV       1869 non-null   object        \n",
      " 18  StreamingMovies   1869 non-null   object        \n",
      " 19  MultipleLines     1869 non-null   object        \n",
      "dtypes: datetime64[ns](2), float64(1), int64(1), object(16)\n",
      "memory usage: 306.6+ KB\n",
      "None\n"
     ]
    },
    {
     "name": "stderr",
     "output_type": "stream",
     "text": [
      "/tmp/ipykernel_114/3576475831.py:2: SettingWithCopyWarning: \n",
      "A value is trying to be set on a copy of a slice from a DataFrame.\n",
      "Try using .loc[row_indexer,col_indexer] = value instead\n",
      "\n",
      "See the caveats in the documentation: https://pandas.pydata.org/pandas-docs/stable/user_guide/indexing.html#returning-a-view-versus-a-copy\n",
      "  users_withdrawn['EndDate'] = pd.to_datetime(users_withdrawn['EndDate'], format='%Y-%m-%d', exact = False)\n"
     ]
    }
   ],
   "source": [
    "#Cambiamos tipo de datos  la columna de EndDate para el dataset users_asset\n",
    "users_withdrawn['EndDate'] = pd.to_datetime(users_withdrawn['EndDate'], format='%Y-%m-%d', exact = False)\n",
    "print(users_withdrawn.info())"
   ]
  },
  {
   "cell_type": "code",
   "execution_count": 11,
   "id": "ee5b96c4",
   "metadata": {
    "scrolled": false
   },
   "outputs": [
    {
     "name": "stdout",
     "output_type": "stream",
     "text": [
      "      customerID  BeginDate    EndDate            Type PaperlessBilling  \\\n",
      "2     3668-QPYBK 2019-10-01 2019-12-01  Month-to-month              Yes   \n",
      "4     9237-HQITU 2019-09-01 2019-11-01  Month-to-month              Yes   \n",
      "5     9305-CDSKC 2019-03-01 2019-11-01  Month-to-month              Yes   \n",
      "8     7892-POOKP 2017-07-01 2019-11-01  Month-to-month              Yes   \n",
      "13    0280-XJGEX 2015-09-01 2019-10-01  Month-to-month              Yes   \n",
      "...          ...        ...        ...             ...              ...   \n",
      "7021  1699-HPSBG 2018-11-01 2019-11-01        One year              Yes   \n",
      "7026  8775-CEBBJ 2019-02-01 2019-11-01  Month-to-month              Yes   \n",
      "7032  6894-LFHLY 2019-10-01 2019-11-01  Month-to-month              Yes   \n",
      "7034  0639-TSIQW 2014-03-01 2019-10-01  Month-to-month              Yes   \n",
      "7041  8361-LTMKD 2019-07-01 2019-11-01  Month-to-month              Yes   \n",
      "\n",
      "                  PaymentMethod  MonthlyCharges TotalCharges  gender  \\\n",
      "2                  Mailed check           53.85       108.15    Male   \n",
      "4              Electronic check           70.70       151.65  Female   \n",
      "5              Electronic check           99.65        820.5  Female   \n",
      "8              Electronic check          104.80      3046.05  Female   \n",
      "13    Bank transfer (automatic)          103.70       5036.3    Male   \n",
      "...                         ...             ...          ...     ...   \n",
      "7021           Electronic check           59.80        727.8    Male   \n",
      "7026  Bank transfer (automatic)           44.20       403.35  Female   \n",
      "7032           Electronic check           75.75        75.75    Male   \n",
      "7034    Credit card (automatic)          102.95      6886.25  Female   \n",
      "7041               Mailed check           74.40        306.6    Male   \n",
      "\n",
      "      SeniorCitizen  ... Dependents InternetService OnlineSecurity  \\\n",
      "2                 0  ...         No             DSL            Yes   \n",
      "4                 0  ...         No     Fiber optic             No   \n",
      "5                 0  ...         No     Fiber optic             No   \n",
      "8                 0  ...         No     Fiber optic             No   \n",
      "13                0  ...         No     Fiber optic             No   \n",
      "...             ...  ...        ...             ...            ...   \n",
      "7021              0  ...         No             DSL             No   \n",
      "7026              0  ...         No             DSL             No   \n",
      "7032              1  ...         No     Fiber optic             No   \n",
      "7034              0  ...         No     Fiber optic            Yes   \n",
      "7041              1  ...         No     Fiber optic             No   \n",
      "\n",
      "     OnlineBackup DeviceProtection TechSupport StreamingTV StreamingMovies  \\\n",
      "2             Yes               No          No          No              No   \n",
      "4              No               No          No          No              No   \n",
      "5              No              Yes          No         Yes             Yes   \n",
      "8              No              Yes         Yes         Yes             Yes   \n",
      "13            Yes              Yes          No         Yes             Yes   \n",
      "...           ...              ...         ...         ...             ...   \n",
      "7021           No               No         Yes         Yes              No   \n",
      "7026           No               No          No          No              No   \n",
      "7032           No               No          No          No              No   \n",
      "7034          Yes              Yes          No         Yes              No   \n",
      "7041           No               No          No          No              No   \n",
      "\n",
      "     MultipleLines UserDuration  \n",
      "2               No           61  \n",
      "4               No           61  \n",
      "5              Yes          245  \n",
      "8              Yes          853  \n",
      "13             Yes         1491  \n",
      "...            ...          ...  \n",
      "7021            No          365  \n",
      "7026            No          273  \n",
      "7032           Yes           31  \n",
      "7034           Yes         2040  \n",
      "7041           Yes          123  \n",
      "\n",
      "[1869 rows x 21 columns]\n"
     ]
    },
    {
     "name": "stderr",
     "output_type": "stream",
     "text": [
      "/tmp/ipykernel_114/961823592.py:2: SettingWithCopyWarning: \n",
      "A value is trying to be set on a copy of a slice from a DataFrame.\n",
      "Try using .loc[row_indexer,col_indexer] = value instead\n",
      "\n",
      "See the caveats in the documentation: https://pandas.pydata.org/pandas-docs/stable/user_guide/indexing.html#returning-a-view-versus-a-copy\n",
      "  users_withdrawn['UserDuration'] = (users_withdrawn['EndDate'] - users_withdrawn['BeginDate']).dt.days\n"
     ]
    }
   ],
   "source": [
    "#Crear una nueva columna que se calcule con la fecha de inicio y final para tener la duración del usuario\n",
    "users_withdrawn['UserDuration'] = (users_withdrawn['EndDate'] - users_withdrawn['BeginDate']).dt.days\n",
    "print(users_withdrawn)"
   ]
  },
  {
   "cell_type": "markdown",
   "id": "0e983105",
   "metadata": {},
   "source": [
    "Aplicaré Label Encoder a las columnas: PaperlessBilling, Partner, Dependents, OnlineSecurity, OnlineBackup, DeviceProtection, TechSupport, StreamingTV, StreamingMovies, MultipleLines. \n",
    "\n",
    "También aplicaré Ordinal Encoder a las columnas Type, Payment Method e Internet Service.\n",
    "\n",
    "Estos pasos los haré más adelante para antes poder realizar un EDA"
   ]
  },
  {
   "cell_type": "markdown",
   "id": "56d7de94",
   "metadata": {},
   "source": [
    "### Comparar los datasets"
   ]
  },
  {
   "cell_type": "code",
   "execution_count": 12,
   "id": "28736440",
   "metadata": {},
   "outputs": [
    {
     "name": "stdout",
     "output_type": "stream",
     "text": [
      "Tamaño de usuarios dados de baja:\n",
      " (1869, 21)\n",
      "Tamaño de usuarios activos:\n",
      " (5174, 20)\n"
     ]
    }
   ],
   "source": [
    "#Vamos a aplicar describe a cada uno de los datasets para explorar sus características\n",
    "print('Tamaño de usuarios dados de baja:\\n', users_withdrawn.shape)\n",
    "print('Tamaño de usuarios activos:\\n', users_asset.shape)\n",
    "#Después veremos si el tamaño cumple para dividir los datos como: \n",
    "#Entreneamiento = dados de baja, Test = activos"
   ]
  },
  {
   "cell_type": "markdown",
   "id": "4c428b3e",
   "metadata": {},
   "source": [
    "###  Gráficas"
   ]
  },
  {
   "cell_type": "markdown",
   "id": "f3b4d511",
   "metadata": {},
   "source": [
    "#### Usuarios por tipo de contrato"
   ]
  },
  {
   "cell_type": "code",
   "execution_count": 13,
   "id": "35f43067",
   "metadata": {},
   "outputs": [
    {
     "data": {
      "image/png": "[encoded data removed]",
      "text/plain": [
       "<Figure size 640x480 with 1 Axes>"
      ]
     },
     "metadata": {},
     "output_type": "display_data"
    },
    {
     "name": "stdout",
     "output_type": "stream",
     "text": [
      "Type\n",
      "Month-to-month     426.76858\n",
      "One year          1368.60241\n",
      "Two year          1864.81250\n",
      "Name: UserDuration, dtype: float64\n"
     ]
    },
    {
     "data": {
      "image/png": "[encoded data removed]",
      "text/plain": [
       "<Figure size 640x480 with 1 Axes>"
      ]
     },
     "metadata": {},
     "output_type": "display_data"
    }
   ],
   "source": [
    "#Grafica de cantidad de usuarios por tipo de contrato\n",
    "users_type = users_withdrawn.groupby('Type')['customerID'].count()\n",
    "users_type_plot = users_type.plot( \n",
    "    kind = 'bar',\n",
    "    title = 'Cantidad de Usuarios por tipo de contrato',\n",
    "    xlabel = 'Tipo de contrato',\n",
    "    ylabel = 'Cantidad de usuarios')\n",
    "plt.show(users_type_plot)\n",
    "\n",
    "#Gráfica de duracion de días por tipo de contrato\n",
    "users_duration_by_type = users_withdrawn.groupby('Type')['UserDuration'].mean()\n",
    "print(users_duration_by_type)\n",
    "users_duration_by_type = users_duration_by_type.plot( \n",
    "    kind = 'bar',\n",
    "    title = 'Duración promedio de los tipos de contrato',\n",
    "    xlabel = 'Tipo de contrato',\n",
    "    ylabel = 'Días')\n",
    "plt.show(users_duration_by_type)"
   ]
  },
  {
   "cell_type": "markdown",
   "id": "8814dfcc",
   "metadata": {},
   "source": [
    "Observaciones: \n",
    "\n",
    "Los usuarios que se quedan más tiempo son los que contratan por 2 años y se quedan hasta un promedio de 5.1 años. \n",
    "\n",
    "Los usuarios que contratan un año se quedan hasta un promedio de 3.7 años.\n",
    "\n",
    "Los usuarios que contratan mes con mes se quedan hasta un promedio de 1.2 años.\n",
    "\n",
    "La cantidad de usuarios es inversamente preoporcional, es decir que la mayoría de clientes contrata la versión mes con mes."
   ]
  },
  {
   "cell_type": "markdown",
   "id": "698313be",
   "metadata": {},
   "source": [
    "#### Usuarios por tipo de Factura (Papel)"
   ]
  },
  {
   "cell_type": "code",
   "execution_count": 14,
   "id": "fffdf1e3",
   "metadata": {},
   "outputs": [
    {
     "data": {
      "image/png": "[encoded data removed]",
      "text/plain": [
       "<Figure size 640x480 with 1 Axes>"
      ]
     },
     "metadata": {},
     "output_type": "display_data"
    },
    {
     "name": "stdout",
     "output_type": "stream",
     "text": [
      "PaperlessBilling\n",
      "No     475.965885\n",
      "Yes    571.266429\n",
      "Name: UserDuration, dtype: float64\n"
     ]
    },
    {
     "data": {
      "image/png": "[encoded data removed]",
      "text/plain": [
       "<Figure size 640x480 with 1 Axes>"
      ]
     },
     "metadata": {},
     "output_type": "display_data"
    }
   ],
   "source": [
    "#Gráfica de cantidad de usuarios por tipo de factura\n",
    "users_bill = users_withdrawn.groupby('PaperlessBilling')['customerID'].count()\n",
    "users_bill_plot = users_bill.plot( \n",
    "    kind = 'bar',\n",
    "    title = 'Cantidad de Usuarios por tipo de Factura',\n",
    "    xlabel = 'Facturacion sin papel',\n",
    "    ylabel = 'Cantidad de usuarios')\n",
    "plt.show(users_bill_plot)\n",
    "\n",
    "#Gráfica de duración por tipo de factura\n",
    "users_duration_by_bill = users_withdrawn.groupby('PaperlessBilling')['UserDuration'].mean()\n",
    "print(users_duration_by_bill)\n",
    "users_duration_by_bill = users_duration_by_bill.plot( \n",
    "    kind = 'bar',\n",
    "    title = 'Duración promedio por tipo facturación',\n",
    "    xlabel = 'Facturacion sin papel',\n",
    "    ylabel = 'Días')\n",
    "plt.show(users_duration_by_bill)"
   ]
  },
  {
   "cell_type": "markdown",
   "id": "a5ff2019",
   "metadata": {},
   "source": [
    "Los clientes que piden facturación sin papel son más que los que piden la facturación con papel. \n",
    "\n",
    "Facturación sin papel tiene una duración promedio de 1.6 años, mientras que la facturación con papel 1.3 años. "
   ]
  },
  {
   "cell_type": "markdown",
   "id": "e2c5abf6",
   "metadata": {},
   "source": [
    "#### Usuarios por tipo de pago"
   ]
  },
  {
   "cell_type": "code",
   "execution_count": 15,
   "id": "b54e48a7",
   "metadata": {},
   "outputs": [
    {
     "data": {
      "image/png": "[encoded data removed]",
      "text/plain": [
       "<Figure size 640x480 with 1 Axes>"
      ]
     },
     "metadata": {},
     "output_type": "display_data"
    },
    {
     "name": "stdout",
     "output_type": "stream",
     "text": [
      "PaymentMethod\n",
      "Bank transfer (automatic)    800.279070\n",
      "Credit card (automatic)      837.875000\n",
      "Electronic check             510.349206\n",
      "Mailed check                 245.318182\n",
      "Name: UserDuration, dtype: float64\n"
     ]
    },
    {
     "data": {
      "image/png": "[encoded data removed]",
      "text/plain": [
       "<Figure size 640x480 with 1 Axes>"
      ]
     },
     "metadata": {},
     "output_type": "display_data"
    }
   ],
   "source": [
    "#Gráfica de cantidad de usuarios por tipo de pago\n",
    "users_pay = users_withdrawn.groupby('PaymentMethod')['customerID'].count()\n",
    "users_pay_plot = users_pay.plot( \n",
    "    kind = 'bar',\n",
    "    title = 'Cantidad de Usuarios por tipo de Pago',\n",
    "    xlabel = 'Tipo de pago',\n",
    "    ylabel = 'Cantidad de usuarios')\n",
    "plt.show(users_pay_plot)\n",
    "\n",
    "#Gráfica de duración por tipo de pago\n",
    "users_duration_by_pay = users_withdrawn.groupby('PaymentMethod')['UserDuration'].mean()\n",
    "print(users_duration_by_pay)\n",
    "users_duration_by_pay = users_duration_by_pay.plot( \n",
    "    kind = 'bar',\n",
    "    title = 'Duración promedio por tipo de pago',\n",
    "    xlabel = 'Tipo de pago',\n",
    "    ylabel = 'Días')\n",
    "plt.show(users_duration_by_pay)"
   ]
  },
  {
   "cell_type": "markdown",
   "id": "8722ae75",
   "metadata": {},
   "source": [
    "Los Usuarios con pago automático suelen quedarse más tiempo (promedio de 2 ños), mientras que los usuarios con pago cheque electrónico duran unos 1.4 años y los que duran menos son los que tienen pago por cheque por correo."
   ]
  },
  {
   "cell_type": "markdown",
   "id": "f104a639",
   "metadata": {},
   "source": [
    "##### De entrada ya podemos sacar algunas conclusiónes, la idea es seguir trabajando en esta parte de la visualización de datos y EDA para entender con qué características vamos a entrenar nuestro modelo, y hacer el análisis de predicción. Los siguientes pasos dependerán de los resultados que se vayan obteniendo, podrían cambiarse una vez que se inicie con el código"
   ]
  },
  {
   "cell_type": "markdown",
   "id": "7c13c9de",
   "metadata": {},
   "source": [
    "## 2.- Entrenamiento de modelos\n",
    "Se trabajará con modelos de aprendizaje supervizado, ya que tenemos el conjunto de datos de prueba (users_asset) y el conjunto de datos histórico (users_withdrawn) con el cual podemos entrenar nuestro modelo y hacer un análisis de prediccón. \n",
    "\n",
    "Entrenaré 3 modelos: Regresión lineal, árbol de desición y bosque aleatorio. Se calificará cada uno de ellos y se escogerá el mejor modelo\n"
   ]
  },
  {
   "cell_type": "markdown",
   "id": "8c56e361",
   "metadata": {},
   "source": [
    "#### 2.1.- Divisón del dataset\n",
    "Se dividirá el conjunto users_withdrawn en 75% train y 25% valid\n"
   ]
  },
  {
   "cell_type": "markdown",
   "id": "e4db181c",
   "metadata": {},
   "source": [
    "#### 2.2 Entrenamiento, calificación y ajuste de parámetros de Regresión Lineal\n",
    "- Se entrenará con el conjunto de train\n",
    "- Se hará la predicción con el conjunto de valid\n",
    "- Se calificará con un F1 \n",
    "- Se visualizará con una matriz de confusión.\n",
    "- Ajuste de parámetros e hiperparámetros\n"
   ]
  },
  {
   "cell_type": "markdown",
   "id": "d317a646",
   "metadata": {},
   "source": [
    "#### 2.3 Entrenamiento, calificación y ajuste de parámetros de Bosque Aleatorio\n",
    "- Se entrenará con el conjunto de train\n",
    "- Se hará la predicción con el conjunto de valid\n",
    "- Se calificará con un F1 \n",
    "- Se visualizará con una matriz de confusión.\n",
    "- Ajuste de parámetros e hiperparámetros"
   ]
  },
  {
   "cell_type": "markdown",
   "id": "58a64cee",
   "metadata": {},
   "source": [
    "#### 2.4 Entrenamiento, calificación y ajuste de parámetros de Árbol de Decisión\n",
    "- Se entrenará con el conjunto de train\n",
    "- Se hará la predicción con el conjunto de valid\n",
    "- Se calificará con un F1 \n",
    "- Se visualizará con una matriz de confusión.\n",
    "- Ajuste de parámetros e hiperparámetros"
   ]
  },
  {
   "cell_type": "markdown",
   "id": "577faa65",
   "metadata": {},
   "source": [
    "### 3.- Elección del mejor modelo y testeo \n",
    "- Se pondrá a prueba nuestro modelo con el conjunto de datos users_asset"
   ]
  },
  {
   "cell_type": "markdown",
   "id": "74c6d5c6",
   "metadata": {},
   "source": [
    "### 4.- Conclusiones y discusión"
   ]
  },
  {
   "cell_type": "markdown",
   "id": "3fb01588",
   "metadata": {},
   "source": [
    "<div class=\"alert alert-block alert-success\">\n",
    "<b>Comentario del revisor (2da Iteracion)</b> <a class=“tocSkip”></a>\n",
    "\n",
    "Buen trabajo desarrollando el plan de trabajo para tu proyecto Final! \n",
    "    \n",
    "Te recomendaría añadir en la parte del desarrollo del modelo que la división de los datos sean en 3 conjuntos, uno para entrenamiento, prueba y otro de validación. De este forma tendrás un tercer conjunto de datos que el modelo no ha visto y podrás ver el desempeño cómo si fueran datos reales llegando al modelo y así analizar su desempeño.\n",
    "    \n",
    "En base al análisis del balance de clases considera la métrica a utilizar por que tienes un caso de clases desbalanceadas según se ve en tu EDA.\n",
    "\n",
    "    \n",
    "Saludos!\n",
    "</div>"
   ]
  }
 ],
 "metadata": {
  "ExecuteTimeLog": [
   {
    "duration": 299,
    "start_time": "2024-11-08T02:37:21.527Z"
   },
   {
    "duration": 137,
    "start_time": "2024-11-08T02:37:21.828Z"
   },
   {
    "duration": 111,
    "start_time": "2024-11-08T02:37:21.967Z"
   },
   {
    "duration": 0,
    "start_time": "2024-11-08T02:37:22.081Z"
   },
   {
    "duration": 0,
    "start_time": "2024-11-08T02:37:22.082Z"
   },
   {
    "duration": 0,
    "start_time": "2024-11-08T02:37:22.083Z"
   },
   {
    "duration": 0,
    "start_time": "2024-11-08T02:37:22.084Z"
   },
   {
    "duration": 0,
    "start_time": "2024-11-08T02:37:22.085Z"
   },
   {
    "duration": 1,
    "start_time": "2024-11-08T02:37:22.086Z"
   },
   {
    "duration": 0,
    "start_time": "2024-11-08T02:37:22.088Z"
   },
   {
    "duration": 0,
    "start_time": "2024-11-08T02:37:22.089Z"
   },
   {
    "duration": 114,
    "start_time": "2024-11-08T02:37:32.942Z"
   },
   {
    "duration": 0,
    "start_time": "2024-11-08T02:37:33.058Z"
   },
   {
    "duration": 0,
    "start_time": "2024-11-08T02:37:33.059Z"
   },
   {
    "duration": 0,
    "start_time": "2024-11-08T02:37:33.060Z"
   },
   {
    "duration": 0,
    "start_time": "2024-11-08T02:37:33.061Z"
   },
   {
    "duration": 0,
    "start_time": "2024-11-08T02:37:33.063Z"
   },
   {
    "duration": 0,
    "start_time": "2024-11-08T02:37:33.065Z"
   },
   {
    "duration": 0,
    "start_time": "2024-11-08T02:37:33.066Z"
   },
   {
    "duration": 14,
    "start_time": "2024-11-08T02:37:38.193Z"
   },
   {
    "duration": 13,
    "start_time": "2024-11-08T02:37:38.338Z"
   },
   {
    "duration": 12,
    "start_time": "2024-11-08T02:37:38.503Z"
   },
   {
    "duration": 12,
    "start_time": "2024-11-08T02:37:38.615Z"
   },
   {
    "duration": 13,
    "start_time": "2024-11-08T02:37:39.074Z"
   },
   {
    "duration": 14,
    "start_time": "2024-11-08T02:37:39.385Z"
   },
   {
    "duration": 16,
    "start_time": "2024-11-08T02:37:39.517Z"
   },
   {
    "duration": 302,
    "start_time": "2024-11-08T03:16:56.463Z"
   },
   {
    "duration": 175,
    "start_time": "2024-11-08T03:16:56.767Z"
   },
   {
    "duration": 115,
    "start_time": "2024-11-08T03:16:56.944Z"
   },
   {
    "duration": 0,
    "start_time": "2024-11-08T03:16:57.061Z"
   },
   {
    "duration": 0,
    "start_time": "2024-11-08T03:16:57.062Z"
   },
   {
    "duration": 0,
    "start_time": "2024-11-08T03:16:57.064Z"
   },
   {
    "duration": 0,
    "start_time": "2024-11-08T03:16:57.066Z"
   },
   {
    "duration": 0,
    "start_time": "2024-11-08T03:16:57.067Z"
   },
   {
    "duration": 0,
    "start_time": "2024-11-08T03:16:57.068Z"
   },
   {
    "duration": 0,
    "start_time": "2024-11-08T03:16:57.070Z"
   },
   {
    "duration": 0,
    "start_time": "2024-11-08T03:16:57.072Z"
   },
   {
    "duration": 282,
    "start_time": "2024-11-08T04:27:52.656Z"
   },
   {
    "duration": 134,
    "start_time": "2024-11-08T04:27:52.941Z"
   },
   {
    "duration": 113,
    "start_time": "2024-11-08T04:27:53.076Z"
   },
   {
    "duration": 0,
    "start_time": "2024-11-08T04:27:53.191Z"
   },
   {
    "duration": 0,
    "start_time": "2024-11-08T04:27:53.192Z"
   },
   {
    "duration": 0,
    "start_time": "2024-11-08T04:27:53.193Z"
   },
   {
    "duration": 0,
    "start_time": "2024-11-08T04:27:53.194Z"
   },
   {
    "duration": 0,
    "start_time": "2024-11-08T04:27:53.195Z"
   },
   {
    "duration": 0,
    "start_time": "2024-11-08T04:27:53.196Z"
   },
   {
    "duration": 0,
    "start_time": "2024-11-08T04:27:53.197Z"
   },
   {
    "duration": 0,
    "start_time": "2024-11-08T04:27:53.197Z"
   },
   {
    "duration": 132,
    "start_time": "2024-11-08T04:29:18.589Z"
   },
   {
    "duration": 30,
    "start_time": "2024-11-08T04:35:51.359Z"
   },
   {
    "duration": 729,
    "start_time": "2024-11-08T04:36:13.130Z"
   },
   {
    "duration": 313,
    "start_time": "2024-11-08T04:36:26.020Z"
   },
   {
    "duration": 136,
    "start_time": "2024-11-08T04:36:26.335Z"
   },
   {
    "duration": 14,
    "start_time": "2024-11-08T04:36:26.473Z"
   },
   {
    "duration": 208,
    "start_time": "2024-11-08T04:36:26.490Z"
   },
   {
    "duration": 0,
    "start_time": "2024-11-08T04:36:26.700Z"
   },
   {
    "duration": 0,
    "start_time": "2024-11-08T04:36:26.701Z"
   },
   {
    "duration": 0,
    "start_time": "2024-11-08T04:36:26.702Z"
   },
   {
    "duration": 0,
    "start_time": "2024-11-08T04:36:26.712Z"
   },
   {
    "duration": 0,
    "start_time": "2024-11-08T04:36:26.714Z"
   },
   {
    "duration": 0,
    "start_time": "2024-11-08T04:36:26.715Z"
   },
   {
    "duration": 0,
    "start_time": "2024-11-08T04:36:26.716Z"
   },
   {
    "duration": 368,
    "start_time": "2024-11-08T04:43:45.624Z"
   },
   {
    "duration": 70,
    "start_time": "2024-11-08T04:44:08.670Z"
   },
   {
    "duration": 602,
    "start_time": "2024-11-08T04:44:19.793Z"
   },
   {
    "duration": 7,
    "start_time": "2024-11-08T04:44:35.853Z"
   },
   {
    "duration": 32,
    "start_time": "2024-11-08T04:44:41.413Z"
   },
   {
    "duration": 272,
    "start_time": "2024-11-08T04:44:49.293Z"
   },
   {
    "duration": 66,
    "start_time": "2024-11-08T04:44:49.567Z"
   },
   {
    "duration": 32,
    "start_time": "2024-11-08T04:44:49.635Z"
   },
   {
    "duration": 12,
    "start_time": "2024-11-08T04:44:49.670Z"
   },
   {
    "duration": 30,
    "start_time": "2024-11-08T04:44:49.684Z"
   },
   {
    "duration": 20,
    "start_time": "2024-11-08T04:44:49.716Z"
   },
   {
    "duration": 12,
    "start_time": "2024-11-08T04:44:49.737Z"
   },
   {
    "duration": 13,
    "start_time": "2024-11-08T04:44:49.751Z"
   },
   {
    "duration": 3,
    "start_time": "2024-11-08T04:44:49.766Z"
   },
   {
    "duration": 1964,
    "start_time": "2024-11-08T04:44:49.773Z"
   },
   {
    "duration": 116,
    "start_time": "2024-11-08T04:44:51.739Z"
   },
   {
    "duration": 158,
    "start_time": "2024-11-10T03:10:28.449Z"
   },
   {
    "duration": 331,
    "start_time": "2024-11-10T03:10:35.015Z"
   },
   {
    "duration": 93,
    "start_time": "2024-11-10T03:10:35.349Z"
   },
   {
    "duration": 30,
    "start_time": "2024-11-10T03:10:35.444Z"
   },
   {
    "duration": 33,
    "start_time": "2024-11-10T03:10:35.476Z"
   },
   {
    "duration": 4,
    "start_time": "2024-11-10T03:10:35.511Z"
   },
   {
    "duration": 20,
    "start_time": "2024-11-10T03:10:35.517Z"
   },
   {
    "duration": 11,
    "start_time": "2024-11-10T03:10:35.538Z"
   },
   {
    "duration": 13,
    "start_time": "2024-11-10T03:10:35.551Z"
   },
   {
    "duration": 3,
    "start_time": "2024-11-10T03:10:35.565Z"
   },
   {
    "duration": 1945,
    "start_time": "2024-11-10T03:10:35.606Z"
   },
   {
    "duration": 116,
    "start_time": "2024-11-10T03:10:37.553Z"
   },
   {
    "duration": 292,
    "start_time": "2024-11-10T03:35:47.663Z"
   },
   {
    "duration": 75,
    "start_time": "2024-11-10T03:35:47.957Z"
   },
   {
    "duration": 32,
    "start_time": "2024-11-10T03:35:48.034Z"
   },
   {
    "duration": 36,
    "start_time": "2024-11-10T03:35:48.069Z"
   },
   {
    "duration": 5,
    "start_time": "2024-11-10T03:35:48.107Z"
   },
   {
    "duration": 20,
    "start_time": "2024-11-10T03:35:48.113Z"
   },
   {
    "duration": 18,
    "start_time": "2024-11-10T03:35:48.135Z"
   },
   {
    "duration": 13,
    "start_time": "2024-11-10T03:35:48.154Z"
   },
   {
    "duration": 41,
    "start_time": "2024-11-10T03:35:48.169Z"
   },
   {
    "duration": 3,
    "start_time": "2024-11-10T03:35:48.213Z"
   },
   {
    "duration": 470,
    "start_time": "2024-11-10T03:35:48.217Z"
   },
   {
    "duration": 0,
    "start_time": "2024-11-10T03:35:48.689Z"
   },
   {
    "duration": 0,
    "start_time": "2024-11-10T03:35:48.691Z"
   },
   {
    "duration": 303,
    "start_time": "2024-11-10T03:37:43.090Z"
   },
   {
    "duration": 304,
    "start_time": "2024-11-10T03:37:58.245Z"
   },
   {
    "duration": 63,
    "start_time": "2024-11-10T03:37:58.551Z"
   },
   {
    "duration": 32,
    "start_time": "2024-11-10T03:37:58.615Z"
   },
   {
    "duration": 13,
    "start_time": "2024-11-10T03:37:58.648Z"
   },
   {
    "duration": 4,
    "start_time": "2024-11-10T03:37:58.662Z"
   },
   {
    "duration": 52,
    "start_time": "2024-11-10T03:37:58.668Z"
   },
   {
    "duration": 457,
    "start_time": "2024-11-10T03:37:58.722Z"
   },
   {
    "duration": 0,
    "start_time": "2024-11-10T03:37:59.181Z"
   },
   {
    "duration": 0,
    "start_time": "2024-11-10T03:37:59.182Z"
   },
   {
    "duration": 0,
    "start_time": "2024-11-10T03:37:59.183Z"
   },
   {
    "duration": 0,
    "start_time": "2024-11-10T03:37:59.184Z"
   },
   {
    "duration": 0,
    "start_time": "2024-11-10T03:37:59.185Z"
   },
   {
    "duration": 0,
    "start_time": "2024-11-10T03:37:59.186Z"
   },
   {
    "duration": 0,
    "start_time": "2024-11-10T03:37:59.187Z"
   },
   {
    "duration": 312,
    "start_time": "2024-11-10T03:38:48.412Z"
   },
   {
    "duration": 61,
    "start_time": "2024-11-10T03:38:48.727Z"
   },
   {
    "duration": 46,
    "start_time": "2024-11-10T03:38:48.790Z"
   },
   {
    "duration": 13,
    "start_time": "2024-11-10T03:38:48.838Z"
   },
   {
    "duration": 5,
    "start_time": "2024-11-10T03:38:48.853Z"
   },
   {
    "duration": 46,
    "start_time": "2024-11-10T03:38:48.860Z"
   },
   {
    "duration": 6,
    "start_time": "2024-11-10T03:38:48.907Z"
   },
   {
    "duration": 19,
    "start_time": "2024-11-10T03:38:48.915Z"
   },
   {
    "duration": 11,
    "start_time": "2024-11-10T03:38:48.935Z"
   },
   {
    "duration": 13,
    "start_time": "2024-11-10T03:38:48.948Z"
   },
   {
    "duration": 3,
    "start_time": "2024-11-10T03:38:48.963Z"
   },
   {
    "duration": 461,
    "start_time": "2024-11-10T03:38:49.005Z"
   },
   {
    "duration": 0,
    "start_time": "2024-11-10T03:38:49.468Z"
   },
   {
    "duration": 0,
    "start_time": "2024-11-10T03:38:49.469Z"
   },
   {
    "duration": 268,
    "start_time": "2024-11-10T03:43:34.290Z"
   },
   {
    "duration": 64,
    "start_time": "2024-11-10T03:43:34.560Z"
   },
   {
    "duration": 32,
    "start_time": "2024-11-10T03:43:34.626Z"
   },
   {
    "duration": 13,
    "start_time": "2024-11-10T03:43:34.660Z"
   },
   {
    "duration": 5,
    "start_time": "2024-11-10T03:43:34.674Z"
   },
   {
    "duration": 9,
    "start_time": "2024-11-10T03:43:34.706Z"
   },
   {
    "duration": 6,
    "start_time": "2024-11-10T03:43:34.716Z"
   },
   {
    "duration": 18,
    "start_time": "2024-11-10T03:43:34.724Z"
   },
   {
    "duration": 13,
    "start_time": "2024-11-10T03:43:34.743Z"
   },
   {
    "duration": 13,
    "start_time": "2024-11-10T03:43:34.758Z"
   },
   {
    "duration": 34,
    "start_time": "2024-11-10T03:43:34.773Z"
   },
   {
    "duration": 472,
    "start_time": "2024-11-10T03:43:34.809Z"
   },
   {
    "duration": 0,
    "start_time": "2024-11-10T03:43:35.282Z"
   },
   {
    "duration": 0,
    "start_time": "2024-11-10T03:43:35.283Z"
   },
   {
    "duration": 294,
    "start_time": "2024-11-10T03:51:42.561Z"
   },
   {
    "duration": 64,
    "start_time": "2024-11-10T03:51:42.857Z"
   },
   {
    "duration": 32,
    "start_time": "2024-11-10T03:51:42.923Z"
   },
   {
    "duration": 13,
    "start_time": "2024-11-10T03:51:42.957Z"
   },
   {
    "duration": 34,
    "start_time": "2024-11-10T03:51:42.971Z"
   },
   {
    "duration": 11,
    "start_time": "2024-11-10T03:51:43.007Z"
   },
   {
    "duration": 8,
    "start_time": "2024-11-10T03:51:43.019Z"
   },
   {
    "duration": 6,
    "start_time": "2024-11-10T03:51:43.030Z"
   },
   {
    "duration": 19,
    "start_time": "2024-11-10T03:51:43.037Z"
   },
   {
    "duration": 11,
    "start_time": "2024-11-10T03:51:43.059Z"
   },
   {
    "duration": 47,
    "start_time": "2024-11-10T03:51:43.072Z"
   },
   {
    "duration": 4,
    "start_time": "2024-11-10T03:51:43.121Z"
   },
   {
    "duration": 478,
    "start_time": "2024-11-10T03:51:43.127Z"
   },
   {
    "duration": 0,
    "start_time": "2024-11-10T03:51:43.606Z"
   },
   {
    "duration": 0,
    "start_time": "2024-11-10T03:51:43.607Z"
   },
   {
    "duration": 390,
    "start_time": "2024-11-10T03:52:57.385Z"
   },
   {
    "duration": 95,
    "start_time": "2024-11-10T03:52:57.778Z"
   },
   {
    "duration": 48,
    "start_time": "2024-11-10T03:52:57.875Z"
   },
   {
    "duration": 13,
    "start_time": "2024-11-10T03:52:57.926Z"
   },
   {
    "duration": 5,
    "start_time": "2024-11-10T03:52:57.941Z"
   },
   {
    "duration": 9,
    "start_time": "2024-11-10T03:52:57.947Z"
   },
   {
    "duration": 7,
    "start_time": "2024-11-10T03:52:57.958Z"
   },
   {
    "duration": 6,
    "start_time": "2024-11-10T03:52:57.966Z"
   },
   {
    "duration": 19,
    "start_time": "2024-11-10T03:52:58.005Z"
   },
   {
    "duration": 10,
    "start_time": "2024-11-10T03:52:58.028Z"
   },
   {
    "duration": 13,
    "start_time": "2024-11-10T03:52:58.040Z"
   },
   {
    "duration": 3,
    "start_time": "2024-11-10T03:52:58.055Z"
   },
   {
    "duration": 252,
    "start_time": "2024-11-10T03:52:58.060Z"
   },
   {
    "duration": 204,
    "start_time": "2024-11-10T03:52:58.314Z"
   },
   {
    "duration": 227,
    "start_time": "2024-11-10T03:52:58.520Z"
   },
   {
    "duration": 2151,
    "start_time": "2024-11-10T05:30:33.226Z"
   },
   {
    "duration": 97,
    "start_time": "2024-11-10T05:30:35.379Z"
   },
   {
    "duration": 32,
    "start_time": "2024-11-10T05:30:35.478Z"
   },
   {
    "duration": 13,
    "start_time": "2024-11-10T05:30:35.513Z"
   },
   {
    "duration": 5,
    "start_time": "2024-11-10T05:30:35.528Z"
   },
   {
    "duration": 9,
    "start_time": "2024-11-10T05:30:35.534Z"
   },
   {
    "duration": 8,
    "start_time": "2024-11-10T05:30:35.545Z"
   },
   {
    "duration": 6,
    "start_time": "2024-11-10T05:30:35.555Z"
   },
   {
    "duration": 54,
    "start_time": "2024-11-10T05:30:35.563Z"
   },
   {
    "duration": 12,
    "start_time": "2024-11-10T05:30:35.619Z"
   },
   {
    "duration": 13,
    "start_time": "2024-11-10T05:30:35.633Z"
   },
   {
    "duration": 3,
    "start_time": "2024-11-10T05:30:35.648Z"
   },
   {
    "duration": 262,
    "start_time": "2024-11-10T05:30:35.652Z"
   },
   {
    "duration": 199,
    "start_time": "2024-11-10T05:30:35.916Z"
   },
   {
    "duration": 276,
    "start_time": "2024-11-10T05:30:36.117Z"
   }
  ],
  "kernelspec": {
   "display_name": "Python 3 (ipykernel)",
   "language": "python",
   "name": "python3"
  },
  "language_info": {
   "codemirror_mode": {
    "name": "ipython",
    "version": 3
   },
   "file_extension": ".py",
   "mimetype": "text/x-python",
   "name": "python",
   "nbconvert_exporter": "python",
   "pygments_lexer": "ipython3",
   "version": "3.9.19"
  },
  "toc": {
   "base_numbering": 1,
   "nav_menu": {},
   "number_sections": true,
   "sideBar": true,
   "skip_h1_title": true,
   "title_cell": "Table of Contents",
   "title_sidebar": "Contents",
   "toc_cell": false,
   "toc_position": {},
   "toc_section_display": true,
   "toc_window_display": false
  }
 },
 "nbformat": 4,
 "nbformat_minor": 5
}
